{
  "nbformat": 4,
  "nbformat_minor": 0,
  "metadata": {
    "colab": {
      "provenance": [],
      "authorship_tag": "ABX9TyPe1RiPhWZqX2LrrApRtzZU",
      "include_colab_link": true
    },
    "kernelspec": {
      "name": "python3",
      "display_name": "Python 3"
    },
    "language_info": {
      "name": "python"
    }
  },
  "cells": [
    {
      "cell_type": "markdown",
      "metadata": {
        "id": "view-in-github",
        "colab_type": "text"
      },
      "source": [
        "<a href=\"https://colab.research.google.com/github/alexsabrasil/tomada-de-decisao/blob/main/TomadaDeDecisao.ipynb\" target=\"_parent\"><img src=\"https://colab.research.google.com/assets/colab-badge.svg\" alt=\"Open In Colab\"/></a>"
      ]
    },
    {
      "cell_type": "markdown",
      "source": [
        "**Exercícios - Tomada de Decisão em Python | Maior Número**\n",
        "\n",
        "1. Faça um Programa que peça dois números e imprima o maior deles."
      ],
      "metadata": {
        "id": "S-jDXhN1WIHY"
      }
    },
    {
      "cell_type": "code",
      "execution_count": 1,
      "metadata": {
        "colab": {
          "base_uri": "https://localhost:8080/"
        },
        "id": "E2R3OKCDV5cs",
        "outputId": "8d013383-f552-4256-98a5-53042f01fef9"
      },
      "outputs": [
        {
          "output_type": "stream",
          "name": "stdout",
          "text": [
            "Digite o primeiro número: 7\n",
            "Digite o segundo número: 5\n",
            "O maior número é: 7.0\n"
          ]
        }
      ],
      "source": [
        "def maior_numero():\n",
        "    num1 = float(input(\"Digite o primeiro número: \"))\n",
        "    num2 = float(input(\"Digite o segundo número: \"))\n",
        "    if num1 > num2:\n",
        "        print(f\"O maior número é: {num1}\")\n",
        "    elif num2 > num1:\n",
        "        print(f\"O maior número é: {num2}\")\n",
        "    else:\n",
        "        print(\"Os números são iguais.\")\n",
        "\n",
        "maior_numero()\n"
      ]
    },
    {
      "cell_type": "markdown",
      "source": [
        "**Exercícios - Tomada de Decisão em Python | Turno de Estudo**\n",
        "\n",
        "2. Faça um Programa que pergunte em que turno você estuda. Peça para digitar M-matutino ou V-Vespertino ou N-Noturno. Imprima a mensagem \"Bom Dia!\" ,\"Boa Tarde!\" ou\" Boa Noite!\" ou \"Valor Inválido!\" ,conforme o caso.\n"
      ],
      "metadata": {
        "id": "vuHgFBZhWf9W"
      }
    },
    {
      "cell_type": "code",
      "source": [
        "def turno_estudo():\n",
        "    turno = input(\"Digite o turno que você estuda (M-matutino, V-vespertino, N-noturno): \").upper()\n",
        "    if turno == 'M':\n",
        "        print(\"Bom Dia!\")\n",
        "    elif turno == 'V':\n",
        "        print(\"Boa Tarde!\")\n",
        "    elif turno == 'N':\n",
        "        print(\"Boa Noite!\")\n",
        "    else:\n",
        "        print(\"Valor Inválido!\")\n",
        "\n",
        "turno_estudo()\n"
      ],
      "metadata": {
        "colab": {
          "base_uri": "https://localhost:8080/"
        },
        "id": "lYCET3csWqB3",
        "outputId": "a4f639e4-f319-49f2-a941-46d7cbf00498"
      },
      "execution_count": 2,
      "outputs": [
        {
          "output_type": "stream",
          "name": "stdout",
          "text": [
            "Digite o turno que você estuda (M-matutino, V-vespertino, N-noturno): N\n",
            "Boa Noite!\n"
          ]
        }
      ]
    },
    {
      "cell_type": "markdown",
      "source": [
        "**Exercícios - Tomada de Decisão em Python | Nota Válida**\n",
        "\n",
        "3. Faça um programa que peça uma nota, entre zero e dez. Mostre uma mensagem caso o valor seja inválido e continue pedindo até que o usuário informe um valor válido.\n"
      ],
      "metadata": {
        "id": "oVParjnLWqrr"
      }
    },
    {
      "cell_type": "code",
      "source": [
        "def nota_valida():\n",
        "    while True:\n",
        "        nota = float(input(\"Digite uma nota entre 0 e 10: \"))\n",
        "        if 0 <= nota <= 10:\n",
        "            print(f\"Nota válida: {nota}\")\n",
        "            break\n",
        "        else:\n",
        "            print(\"Valor inválido, tente novamente.\")\n",
        "\n",
        "nota_valida()\n"
      ],
      "metadata": {
        "colab": {
          "base_uri": "https://localhost:8080/"
        },
        "id": "E1KzI5XWWuIs",
        "outputId": "33c8f1a4-a7e1-4425-92c0-047b2159f7ba"
      },
      "execution_count": 5,
      "outputs": [
        {
          "output_type": "stream",
          "name": "stdout",
          "text": [
            "Digite uma nota entre 0 e 10: -1\n",
            "Valor inválido, tente novamente.\n",
            "Digite uma nota entre 0 e 10: 11\n",
            "Valor inválido, tente novamente.\n",
            "Digite uma nota entre 0 e 10: 8\n",
            "Nota válida: 8.0\n"
          ]
        }
      ]
    },
    {
      "cell_type": "markdown",
      "source": [
        "**Exercícios - Tomada de Decisão em Python | Classificação do Aluno**\n",
        "\n",
        "4. Implemente um programa que classifique um aluno com base em sua pontuação em um exame. O programa deverá solicitar uma nota de 0 a 10. Se a pontuação for maior ou igual a 7,o aluno é aprovado; caso contrário, é reprovado.\n"
      ],
      "metadata": {
        "id": "kh5w62apWugq"
      }
    },
    {
      "cell_type": "code",
      "source": [
        "def classificar_aluno():\n",
        "    nota = float(input(\"Digite a nota do aluno (0 a 10): \"))\n",
        "    if 0 <= nota <= 10:\n",
        "        if nota >= 7:\n",
        "            print(\"Aluno aprovado.\")\n",
        "        else:\n",
        "            print(\"Aluno reprovado.\")\n",
        "    else:\n",
        "        print(\"Nota inválida.\")\n",
        "\n",
        "classificar_aluno()\n"
      ],
      "metadata": {
        "colab": {
          "base_uri": "https://localhost:8080/"
        },
        "id": "xiSK6kNOWwq2",
        "outputId": "8775f00e-b024-4a8e-ed21-0033a2c28ce5"
      },
      "execution_count": 9,
      "outputs": [
        {
          "output_type": "stream",
          "name": "stdout",
          "text": [
            "Digite a nota do aluno (0 a 10): 6\n",
            "Aluno reprovado.\n"
          ]
        }
      ]
    },
    {
      "cell_type": "markdown",
      "source": [
        "**Exercícios - Tomada de Decisão em Python | Classificação Triângulo**\n",
        "\n",
        "5. Desenvolva um programa que solicite ao usuário os comprimentos dos três lados de um triângulo e classifique-o como equilátero, isósceles ou escaleno. equilátero: todos os lados como mesmo valor isósceles: dois lados como mesmo valor escaleno: todos os lados com medidas distintas.\n"
      ],
      "metadata": {
        "id": "pAfI1b0rWxJs"
      }
    },
    {
      "cell_type": "code",
      "source": [
        "def classificar_triangulo():\n",
        "    lado1 = float(input(\"Digite o comprimento do primeiro lado: \"))\n",
        "    lado2 = float(input(\"Digite o comprimento do segundo lado: \"))\n",
        "    lado3 = float(input(\"Digite o comprimento do terceiro lado: \"))\n",
        "    if lado1 == lado2 == lado3:\n",
        "        print(\"Triângulo Equilátero.\")\n",
        "    elif lado1 == lado2 or lado1 == lado3 or lado2 == lado3:\n",
        "        print(\"Triângulo Isósceles.\")\n",
        "    else:\n",
        "        print(\"Triângulo Escaleno.\")\n",
        "\n",
        "classificar_triangulo()\n"
      ],
      "metadata": {
        "colab": {
          "base_uri": "https://localhost:8080/"
        },
        "id": "0XyX1gLYWzg0",
        "outputId": "2cb546c6-fcb2-46db-f2c1-5d2b4d8c1a25"
      },
      "execution_count": 10,
      "outputs": [
        {
          "output_type": "stream",
          "name": "stdout",
          "text": [
            "Digite o comprimento do primeiro lado: 10\n",
            "Digite o comprimento do segundo lado: 5\n",
            "Digite o comprimento do terceiro lado: 6\n",
            "Triângulo Escaleno.\n"
          ]
        }
      ]
    },
    {
      "cell_type": "markdown",
      "source": [
        "**Exercícios - Tomada de Decisão em Python | Login e Senha**\n",
        "\n",
        "6. Crie um programa que solicite ao usuário um login e uma senha. O programa deve permitir o acesso a penas se o usuário for \"admin\" e a senha for\" admin123\", caso contrário imprima uma mensagem de erro.\n",
        "\n"
      ],
      "metadata": {
        "id": "usdcc5liWz25"
      }
    },
    {
      "cell_type": "code",
      "source": [
        "def login_senha():\n",
        "    login = input(\"Digite o login: \")\n",
        "    senha = input(\"Digite a senha: \")\n",
        "    if login == \"admin\" and senha == \"admin123\":\n",
        "        print(\"Acesso permitido.\")\n",
        "    else:\n",
        "        print(\"Login ou senha incorretos.\")\n",
        "\n",
        "login_senha()\n"
      ],
      "metadata": {
        "colab": {
          "base_uri": "https://localhost:8080/"
        },
        "id": "eK5pn663W3k9",
        "outputId": "673a3a3c-93c3-4801-a80d-5ff367d6e06d"
      },
      "execution_count": 12,
      "outputs": [
        {
          "output_type": "stream",
          "name": "stdout",
          "text": [
            "Digite o login: admin\n",
            "Digite a senha: 123\n",
            "Login ou senha incorretos.\n"
          ]
        }
      ]
    },
    {
      "cell_type": "markdown",
      "source": [
        "**Exercícios - Tomada de Decisão em Python | Classificação por Idade**\n",
        "\n",
        "7. Desenvolver um programa que solicite a idade do usuário e identifique se ele é uma criança, um adolescente, adulto ou idoso."
      ],
      "metadata": {
        "id": "zUb27a5LW38Z"
      }
    },
    {
      "cell_type": "code",
      "source": [
        "def classificar_idade():\n",
        "    idade = int(input(\"Digite a sua idade: \"))\n",
        "    if idade < 12:\n",
        "        print(\"Criança.\")\n",
        "    elif 12 <= idade < 18:\n",
        "        print(\"Adolescente.\")\n",
        "    elif 18 <= idade < 60:\n",
        "        print(\"Adulto.\")\n",
        "    else:\n",
        "        print(\"Idoso.\")\n",
        "\n",
        "classificar_idade()\n"
      ],
      "metadata": {
        "colab": {
          "base_uri": "https://localhost:8080/"
        },
        "id": "KFD0pOUHW5vd",
        "outputId": "e088d1b7-c61d-454c-88fc-d9c64a01b7a7"
      },
      "execution_count": 17,
      "outputs": [
        {
          "output_type": "stream",
          "name": "stdout",
          "text": [
            "Digite a sua idade: 47\n",
            "Adulto.\n"
          ]
        }
      ]
    },
    {
      "cell_type": "markdown",
      "source": [
        "**Exercícios - Tomada de Decisão em Python | Maior entre Três Númerose**\n",
        "\n",
        "8. Criar um programa em Python que solicite três números ao usuário, utilize estruturas condicionais para determinar o maior entre eles e apresente o resultado.\n"
      ],
      "metadata": {
        "id": "JD8I_5ePW6Es"
      }
    },
    {
      "cell_type": "code",
      "source": [
        "def maior_tres():\n",
        "    num1 = float(input(\"Digite o primeiro número: \"))\n",
        "    num2 = float(input(\"Digite o segundo número: \"))\n",
        "    num3 = float(input(\"Digite o terceiro número: \"))\n",
        "    if num1 >= num2 and num1 >= num3:\n",
        "        print(f\"O maior número é: {num1}\")\n",
        "    elif num2 >= num1 and num2 >= num3:\n",
        "        print(f\"O maior número é: {num2}\")\n",
        "    else:\n",
        "        print(f\"O maior número é: {num3}\")\n",
        "\n",
        "maior_tres()\n",
        "\n"
      ],
      "metadata": {
        "colab": {
          "base_uri": "https://localhost:8080/"
        },
        "id": "qDad-YgUW7yd",
        "outputId": "c4629e16-1738-477f-c02d-a330eb0d90c7"
      },
      "execution_count": 18,
      "outputs": [
        {
          "output_type": "stream",
          "name": "stdout",
          "text": [
            "Digite o primeiro número: 4\n",
            "Digite o segundo número: 8\n",
            "Digite o terceiro número: 2\n",
            "O maior número é: 8.0\n"
          ]
        }
      ]
    },
    {
      "cell_type": "markdown",
      "source": [
        "**Exercícios - Tomada de Decisão em Python | Números Pares e Ímpares**\n",
        "\n",
        "9. O programa deve calcular e apresentar a quantidade de números pares e ímpares inseridos. O processo de leitura deve ser encerrado quando o usuário informar o valor zero. Certifique-se de incluir validações para garantir que apenas números positivos sejam considerados na contagem e cálculos.\n"
      ],
      "metadata": {
        "id": "uPQiCaC0W8JO"
      }
    },
    {
      "cell_type": "code",
      "source": [
        "def pares_impares():\n",
        "    pares = 0\n",
        "    impares = 0\n",
        "    while True:\n",
        "        numero = int(input(\"Digite um número (0 para sair): \"))\n",
        "        if numero == 0:\n",
        "            break\n",
        "        if numero > 0:\n",
        "            if numero % 2 == 0:\n",
        "                pares += 1\n",
        "            else:\n",
        "                impares += 1\n",
        "        else:\n",
        "            print(\"Digite apenas números positivos.\")\n",
        "    print(f\"Quantidade de números pares: {pares}\")\n",
        "    print(f\"Quantidade de números ímpares: {impares}\")\n",
        "\n",
        "pares_impares()\n"
      ],
      "metadata": {
        "colab": {
          "base_uri": "https://localhost:8080/"
        },
        "id": "dEfeujgqW-dQ",
        "outputId": "8896e44e-896c-41ff-dfe1-7a73713c32e6"
      },
      "execution_count": 19,
      "outputs": [
        {
          "output_type": "stream",
          "name": "stdout",
          "text": [
            "Digite um número (0 para sair): 7\n",
            "Digite um número (0 para sair): 8\n",
            "Digite um número (0 para sair): 4\n",
            "Digite um número (0 para sair): 2\n",
            "Digite um número (0 para sair): 0\n",
            "Quantidade de números pares: 3\n",
            "Quantidade de números ímpares: 1\n"
          ]
        }
      ]
    },
    {
      "cell_type": "markdown",
      "source": [
        "**Exercícios - Tomada de Decisão em Python | Ordem Crescente**\n",
        "\n",
        "10. Faça um programa que lê três números inteiros e os mostra em ordem crescente"
      ],
      "metadata": {
        "id": "bOEGnhdlW-wk"
      }
    },
    {
      "cell_type": "code",
      "source": [
        "def ordem_crescente():\n",
        "    num1 = int(input(\"Digite o primeiro número: \"))\n",
        "    num2 = int(input(\"Digite o segundo número: \"))\n",
        "    num3 = int(input(\"Digite o terceiro número: \"))\n",
        "    numeros = [num1, num2, num3]\n",
        "    numeros.sort()\n",
        "    print(\"Números em ordem crescente:\", numeros)\n",
        "\n",
        "ordem_crescente()\n",
        "\n"
      ],
      "metadata": {
        "colab": {
          "base_uri": "https://localhost:8080/"
        },
        "id": "mc0XK3ASXA_t",
        "outputId": "12c359ae-934a-4d1b-aac2-4893bf784836"
      },
      "execution_count": 20,
      "outputs": [
        {
          "output_type": "stream",
          "name": "stdout",
          "text": [
            "Digite o primeiro número: 9\n",
            "Digite o segundo número: 4\n",
            "Digite o terceiro número: 7\n",
            "Números em ordem crescente: [4, 7, 9]\n"
          ]
        }
      ]
    },
    {
      "cell_type": "markdown",
      "source": [
        "**Exercícios - Tomada de Decisão em Python | Cálculo de Salário Líquido**\n",
        "\n",
        "11. Escreva um programa que calcule o salário líquido. Lembrando de declarar o salário bruto e o percentual de desconto do Imposto de  Renda.\n",
        "\n",
        "- Renda até  1.903,98 : isento de imposto de renda;\n",
        "- Renda entre 1.903,99 e 2.826,65 : alíquota de 7,5%;\n",
        "- Renda entre 2.826,66 e 3.751,05 : alíquota de15%;\n",
        "- Renda entre 3.751,06 e 4.664,68 : alíquota de 22,5%;\n",
        "- Renda acima de 4.664,68 : alíquota máxima de 27,5%.\n"
      ],
      "metadata": {
        "id": "nSoYqUsYXCbj"
      }
    },
    {
      "cell_type": "code",
      "source": [
        "def calcular_salario_liquido():\n",
        "    salario_bruto = float(input(\"Digite o salário bruto: \"))\n",
        "    if salario_bruto <= 1903.98:\n",
        "        aliquota = 0\n",
        "    elif salario_bruto <= 2826.65:\n",
        "        aliquota = 7.5\n",
        "    elif salario_bruto <= 3751.05:\n",
        "        aliquota = 15\n",
        "    elif salario_bruto <= 4664.68:\n",
        "        aliquota = 22.5\n",
        "    else:\n",
        "        aliquota = 27.5\n",
        "    desconto_ir = (salario_bruto * aliquota) / 100\n",
        "    salario_liquido = salario_bruto - desconto_ir\n",
        "    print(f\"Salário Líquido: R${salario_liquido:.2f}\")\n",
        "\n",
        "calcular_salario_liquido()\n"
      ],
      "metadata": {
        "colab": {
          "base_uri": "https://localhost:8080/"
        },
        "id": "iVSdLTqXXEHo",
        "outputId": "307125b8-2e01-496b-daf9-ee1a42255aa5"
      },
      "execution_count": 16,
      "outputs": [
        {
          "output_type": "stream",
          "name": "stdout",
          "text": [
            "Digite o salário bruto: 2200\n",
            "Salário Líquido: R$2035.00\n"
          ]
        }
      ]
    }
  ]
}